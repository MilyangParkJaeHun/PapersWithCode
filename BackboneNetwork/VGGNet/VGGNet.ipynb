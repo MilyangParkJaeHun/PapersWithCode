{
 "cells": [
  {
   "cell_type": "markdown",
   "metadata": {},
   "source": [
    "# VGGNet\n",
    "Training example using MNIST dataset"
   ]
  },
  {
   "cell_type": "code",
   "execution_count": 1,
   "metadata": {},
   "outputs": [],
   "source": [
    "import tensorflow as tf\n",
    "import tensorflow_datasets as tfds"
   ]
  },
  {
   "cell_type": "code",
   "execution_count": 2,
   "metadata": {},
   "outputs": [],
   "source": [
    "data_builder = tfds.builder(\"cifar10\")\n",
    "data_builder.download_and_prepare()"
   ]
  },
  {
   "cell_type": "code",
   "execution_count": 3,
   "metadata": {},
   "outputs": [
    {
     "name": "stdout",
     "output_type": "stream",
     "text": [
      "# for train : 50000\n",
      "# for valid : 10000\n"
     ]
    }
   ],
   "source": [
    "train_dataset = data_builder.as_dataset(split=tfds.Split.TRAIN)\n",
    "val_dataset = data_builder.as_dataset(split=tfds.Split.TEST)\n",
    "\n",
    "num_classes = data_builder.info.features['label'].num_classes\n",
    "\n",
    "num_train = data_builder.info.splits['train'].num_examples\n",
    "num_val = data_builder.info.splits['test'].num_examples\n",
    "\n",
    "print('# for train : %d'%(num_train))\n",
    "print('# for valid : %d'%(num_val))"
   ]
  },
  {
   "cell_type": "code",
   "execution_count": 4,
   "metadata": {},
   "outputs": [],
   "source": [
    "input_shape = [224, 224, 3]\n",
    "\n",
    "batch_size = 32\n",
    "num_epochs = 300"
   ]
  },
  {
   "cell_type": "markdown",
   "metadata": {},
   "source": [
    "## Create model"
   ]
  },
  {
   "cell_type": "code",
   "execution_count": 5,
   "metadata": {},
   "outputs": [],
   "source": [
    "from tensorflow.keras import Model, Input\n",
    "from tensorflow.keras.layers import Conv2D, MaxPooling2D, Flatten, Dense\n",
    "\n",
    "import functools"
   ]
  },
  {
   "cell_type": "code",
   "execution_count": 6,
   "metadata": {},
   "outputs": [],
   "source": [
    "Conv3_64 = functools.partial(Conv2D,\n",
    "                            filters=64,\n",
    "                            kernel_size=(3, 3),\n",
    "                            padding='same',\n",
    "                            activation='relu')\n",
    "\n",
    "Conv3_128 = functools.partial(Conv2D,\n",
    "                             filters=128,\n",
    "                             kernel_size=(3, 3),\n",
    "                             padding='same',\n",
    "                             activation='relu')\n",
    "\n",
    "Conv3_256 = functools.partial(Conv2D,\n",
    "                             filters=256,\n",
    "                             kernel_size=(3, 3),\n",
    "                             padding='same',\n",
    "                             activation='relu')\n",
    "\n",
    "Conv3_512 = functools.partial(Conv2D,\n",
    "                             filters=512,\n",
    "                             kernel_size=(3, 3),\n",
    "                             padding='same',\n",
    "                             activation='relu')"
   ]
  },
  {
   "cell_type": "code",
   "execution_count": 7,
   "metadata": {},
   "outputs": [],
   "source": [
    "def VGGNet(input_shape, num_classes, model_type: 16 or 19 =16):\n",
    "    input = Input(shape=input_shape, name='Input')\n",
    "    \n",
    "    x = Conv3_64(name='block1_conv1')(input)\n",
    "    x = Conv3_64(name='block1_conv2')(x)\n",
    "    x = MaxPooling2D(pool_size=2, padding='same', name='block1_pool')(x)\n",
    "    \n",
    "    x = Conv3_128(name='block2_conv1')(x)\n",
    "    x = Conv3_128(name='block2_conv2')(x)\n",
    "    x = MaxPooling2D(pool_size=2, padding='same', name='block2_pool')(x)\n",
    "    \n",
    "    x = Conv3_256(name='block3_conv1')(x)\n",
    "    x = Conv3_256(name='block3_conv2')(x)\n",
    "    x = Conv3_256(name='block3_conv3')(x)\n",
    "    if model_type == 19:\n",
    "        x = Conv3_256(name='block3_conv4')(x)\n",
    "    x = MaxPooling2D(pool_size=2, padding='same', name='block3_pool')(x)\n",
    "    \n",
    "    x = Conv3_512(name='block4_conv1')(x)\n",
    "    x = Conv3_512(name='block4_conv2')(x)\n",
    "    x = Conv3_512(name='block4_conv3')(x)\n",
    "    if model_type == 19:\n",
    "        x = Conv3_512(name='block4_conv4')(x)\n",
    "    x = MaxPooling2D(pool_size=2, padding='same', name='block4_pool')(x)\n",
    "    \n",
    "    x = Conv3_512(name='block5_conv1')(x)\n",
    "    x = Conv3_512(name='block5_conv2')(x)\n",
    "    x = Conv3_512(name='block5_conv3')(x)\n",
    "    if model_type == 19:\n",
    "        x = Conv3_512(name='block5_conv4')(x)\n",
    "    x = MaxPooling2D(pool_size=2, padding='same', name='block5_pool')(x)\n",
    "    \n",
    "    x = Flatten(name='flatten')(x)\n",
    "    x = Dense(4096, activation='relu', name='fc1')(x)\n",
    "    x = Dense(4096, activation='relu', name='fc2')(x)    \n",
    "    output = Dense(num_classes, activation='softmax', name='ouput')(x)\n",
    "\n",
    "    model = Model(inputs=input, outputs=output)\n",
    "    if model_type == 19:\n",
    "        model._name = 'VGG19'\n",
    "    else:\n",
    "        model._name = 'VGG16'\n",
    "    \n",
    "    return model"
   ]
  },
  {
   "cell_type": "code",
   "execution_count": 8,
   "metadata": {},
   "outputs": [],
   "source": [
    "def VGG16(input_shape, num_classes):\n",
    "    return VGGNet(input_shape=input_shape,\n",
    "                 num_classes=num_classes,\n",
    "                 model_type=16)\n",
    "\n",
    "def VGG19(input_shape, num_classes):\n",
    "    return VGGNet(input_shape=input_shape,\n",
    "                 num_classes=num_classes,\n",
    "                 model_type=19)"
   ]
  },
  {
   "cell_type": "code",
   "execution_count": 9,
   "metadata": {},
   "outputs": [],
   "source": [
    "batch_input_shape = tf.TensorShape((None, *input_shape))"
   ]
  },
  {
   "cell_type": "code",
   "execution_count": 10,
   "metadata": {},
   "outputs": [
    {
     "name": "stdout",
     "output_type": "stream",
     "text": [
      "Model: \"VGG16\"\n",
      "_________________________________________________________________\n",
      " Layer (type)                Output Shape              Param #   \n",
      "=================================================================\n",
      " Input (InputLayer)          [(None, 224, 224, 3)]     0         \n",
      "                                                                 \n",
      " block1_conv1 (Conv2D)       (None, 224, 224, 64)      1792      \n",
      "                                                                 \n",
      " block1_conv2 (Conv2D)       (None, 224, 224, 64)      36928     \n",
      "                                                                 \n",
      " block1_pool (MaxPooling2D)  (None, 112, 112, 64)      0         \n",
      "                                                                 \n",
      " block2_conv1 (Conv2D)       (None, 112, 112, 128)     73856     \n",
      "                                                                 \n",
      " block2_conv2 (Conv2D)       (None, 112, 112, 128)     147584    \n",
      "                                                                 \n",
      " block2_pool (MaxPooling2D)  (None, 56, 56, 128)       0         \n",
      "                                                                 \n",
      " block3_conv1 (Conv2D)       (None, 56, 56, 256)       295168    \n",
      "                                                                 \n",
      " block3_conv2 (Conv2D)       (None, 56, 56, 256)       590080    \n",
      "                                                                 \n",
      " block3_conv3 (Conv2D)       (None, 56, 56, 256)       590080    \n",
      "                                                                 \n",
      " block3_pool (MaxPooling2D)  (None, 28, 28, 256)       0         \n",
      "                                                                 \n",
      " block4_conv1 (Conv2D)       (None, 28, 28, 512)       1180160   \n",
      "                                                                 \n",
      " block4_conv2 (Conv2D)       (None, 28, 28, 512)       2359808   \n",
      "                                                                 \n",
      " block4_conv3 (Conv2D)       (None, 28, 28, 512)       2359808   \n",
      "                                                                 \n",
      " block4_pool (MaxPooling2D)  (None, 14, 14, 512)       0         \n",
      "                                                                 \n",
      " block5_conv1 (Conv2D)       (None, 14, 14, 512)       2359808   \n",
      "                                                                 \n",
      " block5_conv2 (Conv2D)       (None, 14, 14, 512)       2359808   \n",
      "                                                                 \n",
      " block5_conv3 (Conv2D)       (None, 14, 14, 512)       2359808   \n",
      "                                                                 \n",
      " block5_pool (MaxPooling2D)  (None, 7, 7, 512)         0         \n",
      "                                                                 \n",
      " flatten (Flatten)           (None, 25088)             0         \n",
      "                                                                 \n",
      " fc1 (Dense)                 (None, 4096)              102764544 \n",
      "                                                                 \n",
      " fc2 (Dense)                 (None, 4096)              16781312  \n",
      "                                                                 \n",
      " ouput (Dense)               (None, 10)                40970     \n",
      "                                                                 \n",
      "=================================================================\n",
      "Total params: 134,301,514\n",
      "Trainable params: 134,301,514\n",
      "Non-trainable params: 0\n",
      "_________________________________________________________________\n"
     ]
    }
   ],
   "source": [
    "model = VGG16(input_shape, num_classes)\n",
    "model.build(input_shape=batch_input_shape)\n",
    "model.summary()"
   ]
  },
  {
   "cell_type": "code",
   "execution_count": 11,
   "metadata": {},
   "outputs": [],
   "source": [
    "# model = VGG19(input_shape, num_classes)\n",
    "# model.build(input_shape=batch_input_shape)\n",
    "# model.summary()"
   ]
  },
  {
   "cell_type": "markdown",
   "metadata": {},
   "source": [
    "## Prepare training dataset"
   ]
  },
  {
   "cell_type": "code",
   "execution_count": 12,
   "metadata": {},
   "outputs": [],
   "source": [
    "def prepare_data_fn(features, input_shape, augment=False):\n",
    "    \n",
    "    input_shape = tf.convert_to_tensor(input_shape)\n",
    "    \n",
    "    image = features['image']\n",
    "    label = features['label']\n",
    "    image = tf.image.convert_image_dtype(image, tf.float32)\n",
    "    \n",
    "    if augment:\n",
    "        image = tf.image.random_flip_left_right(image)\n",
    "        \n",
    "        image = tf.image.random_brightness(image, max_delta=0.1)\n",
    "        image = tf.image.random_saturation(image, lower=0.5, upper=1.5)\n",
    "        image = tf.clip_by_value(image, 0.0, 1.0)\n",
    "        \n",
    "        random_scale_factor = tf.random.uniform([1], minval=1., maxval=1.4, dtype=tf.float32)\n",
    "        scaled_height = tf.cast(tf.cast(input_shape[0], tf.float32) * random_scale_factor, tf.int32)\n",
    "        scaled_width = tf.cast(tf.cast(input_shape[1], tf.float32) * random_scale_factor, tf.int32)\n",
    "        scaled_shape = tf.squeeze(tf.stack([scaled_height, scaled_width]))\n",
    "        image = tf.image.resize(image, scaled_shape)\n",
    "        image = tf.image.random_crop(image, input_shape)\n",
    "    else:\n",
    "        image = tf.image.resize(image, input_shape[:2])\n",
    "    return image, label"
   ]
  },
  {
   "cell_type": "code",
   "execution_count": 13,
   "metadata": {},
   "outputs": [],
   "source": [
    "import functools\n",
    "\n",
    "prepare_data_fn_for_train = functools.partial(prepare_data_fn,\n",
    "                                             input_shape=input_shape,\n",
    "                                             augment=True)\n",
    "prepare_data_fn_for_val = functools.partial(prepare_data_fn,\n",
    "                                           input_shape=input_shape,\n",
    "                                           augment=False)\n",
    "\n",
    "train_dataset = train_dataset.repeat(num_epochs) \\\n",
    "                    .shuffle(10000) \\\n",
    "                    .map(prepare_data_fn_for_train, num_parallel_calls=4) \\\n",
    "                    .batch(batch_size) \\\n",
    "                    .prefetch(1)\n",
    "\n",
    "val_dataset = val_dataset.repeat() \\\n",
    "                .map(prepare_data_fn_for_val, num_parallel_calls=4) \\\n",
    "                .batch(batch_size) \\\n",
    "                .prefetch(1)"
   ]
  },
  {
   "cell_type": "markdown",
   "metadata": {},
   "source": [
    "## Training"
   ]
  },
  {
   "cell_type": "code",
   "execution_count": 16,
   "metadata": {},
   "outputs": [],
   "source": [
    "import tensorflow_addons as tfa"
   ]
  },
  {
   "cell_type": "code",
   "execution_count": 18,
   "metadata": {},
   "outputs": [],
   "source": [
    "# optimizer = tf.keras.optimizers.Adam()\n",
    "optimizer = tfa.optimizers.SGDW(learning_rate=0.01,momentum=0.9,\n",
    "            weight_decay=0.0005,nesterov=True)\n",
    "\n",
    "accuracy_metric = tf.metrics.SparseCategoricalAccuracy(name='acc')\n",
    "top5_accuracy_metric = tf.metrics.SparseTopKCategoricalAccuracy(k=5, name='top5_acc')"
   ]
  },
  {
   "cell_type": "code",
   "execution_count": 19,
   "metadata": {},
   "outputs": [],
   "source": [
    "model.compile(optimizer=optimizer,\n",
    "             loss='sparse_categorical_crossentropy',\n",
    "             metrics=[accuracy_metric, top5_accuracy_metric])"
   ]
  },
  {
   "cell_type": "code",
   "execution_count": 20,
   "metadata": {},
   "outputs": [],
   "source": [
    "import os"
   ]
  },
  {
   "cell_type": "code",
   "execution_count": 21,
   "metadata": {},
   "outputs": [],
   "source": [
    "model_dir = './models/vggnet'\n",
    "\n",
    "callbacks = [\n",
    "    tf.keras.callbacks.EarlyStopping(patience=8, monitor='val_loss',\n",
    "                                    restore_best_weights=True),\n",
    "    \n",
    "    tf.keras.callbacks.TensorBoard(log_dir=model_dir, histogram_freq=0, write_graph=True),\n",
    "    \n",
    "    tf.keras.callbacks.ModelCheckpoint(\n",
    "        os.path.join(model_dir, 'weights-epoch{epoch:02d}.h5'))\n",
    "]"
   ]
  },
  {
   "cell_type": "code",
   "execution_count": null,
   "metadata": {},
   "outputs": [
    {
     "name": "stdout",
     "output_type": "stream",
     "text": [
      "Epoch 1/300\n",
      "  54/1563 [>.............................] - ETA: 8:12 - loss: 2.3022 - acc: 0.1042 - top5_acc: 0.5023"
     ]
    }
   ],
   "source": [
    "import math\n",
    "\n",
    "train_steps_per_epoch = math.ceil(num_train / batch_size)\n",
    "val_steps_per_epoch = math.ceil(num_val / batch_size)\n",
    "\n",
    "history = model.fit(train_dataset,\n",
    "                        epochs=num_epochs, steps_per_epoch=train_steps_per_epoch,\n",
    "                        validation_data=(val_dataset),\n",
    "                        validation_steps=val_steps_per_epoch,\n",
    "                        verbose=1, callbacks=callbacks)"
   ]
  },
  {
   "cell_type": "code",
   "execution_count": null,
   "metadata": {},
   "outputs": [],
   "source": []
  }
 ],
 "metadata": {
  "kernelspec": {
   "display_name": "Python 3",
   "language": "python",
   "name": "python3"
  },
  "language_info": {
   "codemirror_mode": {
    "name": "ipython",
    "version": 3
   },
   "file_extension": ".py",
   "mimetype": "text/x-python",
   "name": "python",
   "nbconvert_exporter": "python",
   "pygments_lexer": "ipython3",
   "version": "3.8.10"
  }
 },
 "nbformat": 4,
 "nbformat_minor": 2
}
