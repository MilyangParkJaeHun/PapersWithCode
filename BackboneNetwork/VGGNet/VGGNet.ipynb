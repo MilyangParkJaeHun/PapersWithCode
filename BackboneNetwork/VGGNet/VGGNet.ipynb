{
 "cells": [
  {
   "cell_type": "markdown",
   "metadata": {},
   "source": [
    "# VGGNet\n",
    "Training example using MNIST dataset"
   ]
  },
  {
   "cell_type": "code",
   "execution_count": 1,
   "metadata": {},
   "outputs": [],
   "source": [
    "import tensorflow as tf\n",
    "import tensorflow_datasets as tfds"
   ]
  },
  {
   "cell_type": "code",
   "execution_count": 2,
   "metadata": {},
   "outputs": [],
   "source": [
    "data_builder = tfds.builder(\"cifar100\")\n",
    "data_builder.download_and_prepare()"
   ]
  },
  {
   "cell_type": "code",
   "execution_count": 3,
   "metadata": {},
   "outputs": [
    {
     "name": "stdout",
     "output_type": "stream",
     "text": [
      "# for train : 50000\n",
      "# for valid : 10000\n"
     ]
    }
   ],
   "source": [
    "train_dataset = data_builder.as_dataset(split=tfds.Split.TRAIN)\n",
    "val_dataset = data_builder.as_dataset(split=tfds.Split.TEST)\n",
    "\n",
    "num_classes = data_builder.info.features['label'].num_classes\n",
    "\n",
    "num_train = data_builder.info.splits['train'].num_examples\n",
    "num_val = data_builder.info.splits['test'].num_examples\n",
    "\n",
    "print('# for train : %d'%(num_train))\n",
    "print('# for valid : %d'%(num_val))"
   ]
  },
  {
   "cell_type": "code",
   "execution_count": 4,
   "metadata": {},
   "outputs": [],
   "source": [
    "input_shape = [224, 224, 3]\n",
    "\n",
    "batch_size = 32\n",
    "num_epochs = 300"
   ]
  },
  {
   "cell_type": "code",
   "execution_count": 5,
   "metadata": {},
   "outputs": [],
   "source": [
    "def prepare_data_fn(features, input_shape, augment=False):\n",
    "    \n",
    "    input_shape = tf.convert_to_tensor(input_shape)\n",
    "    \n",
    "    image = features['image']\n",
    "    label = features['label']\n",
    "    image = tf.image.convert_image_dtype(image, tf.float32)\n",
    "    \n",
    "    if augment:\n",
    "        image = tf.image.random_flip_left_right(image)\n",
    "        \n",
    "        image = tf.image.random_brightness(image, max_delta=0.1)\n",
    "        image = tf.image.random_saturation(image, lower=0.5, upper=1.5)\n",
    "        image = tf.clip_by_value(image, 0.0, 1.0)\n",
    "        \n",
    "        random_scale_factor = tf.random.uniform([1], minval=1., maxval=1.4, dtype=tf.float32)\n",
    "        scaled_height = tf.cast(tf.cast(input_shape[0], tf.float32) * random_scale_factor, tf.int32)\n",
    "        scaled_width = tf.cast(tf.cast(input_shape[1], tf.float32) * random_scale_factor, tf.int32)\n",
    "        scaled_shape = tf.squeeze(tf.stack([scaled_height, scaled_width]))\n",
    "        image = tf.image.resize(image, scaled_shape)\n",
    "        image = tf.image.random_crop(image, input_shape)\n",
    "    else:\n",
    "        image = tf.image.resize(image, input_shape[:2])\n",
    "    return image, label"
   ]
  },
  {
   "cell_type": "code",
   "execution_count": 6,
   "metadata": {},
   "outputs": [],
   "source": [
    "import functools\n",
    "\n",
    "prepare_data_fn_for_train = functools.partial(prepare_data_fn,\n",
    "                                             input_shape=input_shape,\n",
    "                                             augment=True)\n",
    "prepare_data_fn_for_val = functools.partial(prepare_data_fn,\n",
    "                                           input_shape=input_shape,\n",
    "                                           augment=False)\n",
    "\n",
    "train_dataset = train_dataset.repeat(num_epochs) \\\n",
    "                    .shuffle(10000) \\\n",
    "                    .map(prepare_data_fn_for_train, num_parallel_calls=4) \\\n",
    "                    .batch(batch_size) \\\n",
    "                    .prefetch(1)\n",
    "\n",
    "val_dataset = val_dataset.repeat() \\\n",
    "                .map(prepare_data_fn_for_val, num_parallel_calls=4) \\\n",
    "                .batch(batch_size) \\\n",
    "                .prefetch(1)"
   ]
  },
  {
   "cell_type": "code",
   "execution_count": null,
   "metadata": {},
   "outputs": [],
   "source": []
  }
 ],
 "metadata": {
  "kernelspec": {
   "display_name": "Python 3",
   "language": "python",
   "name": "python3"
  },
  "language_info": {
   "codemirror_mode": {
    "name": "ipython",
    "version": 3
   },
   "file_extension": ".py",
   "mimetype": "text/x-python",
   "name": "python",
   "nbconvert_exporter": "python",
   "pygments_lexer": "ipython3",
   "version": "3.8.10"
  }
 },
 "nbformat": 4,
 "nbformat_minor": 2
}
