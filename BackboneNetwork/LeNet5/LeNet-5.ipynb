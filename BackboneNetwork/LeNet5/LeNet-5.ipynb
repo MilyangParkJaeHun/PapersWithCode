{
 "cells": [
  {
   "cell_type": "code",
   "execution_count": 1,
   "metadata": {},
   "outputs": [],
   "source": [
    "import tensorflow as tf\n",
    "import numpy as np"
   ]
  },
  {
   "cell_type": "code",
   "execution_count": 2,
   "metadata": {},
   "outputs": [],
   "source": [
    "num_classes = 10\n",
    "img_rows, img_cols, img_ch = 28, 28, 1\n",
    "input_shape = (img_rows, img_cols, img_ch)\n",
    "\n",
    "(x_train, y_train), (x_test, y_test) = tf.keras.datasets.mnist.load_data()\n",
    "x_train, x_test = x_train / 255.0, x_test / 255.0\n",
    "\n",
    "x_train = x_train.reshape(x_train.shape[0], *input_shape)\n",
    "x_test = x_test.reshape(x_test.shape[0], *input_shape)"
   ]
  },
  {
   "cell_type": "code",
   "execution_count": 3,
   "metadata": {},
   "outputs": [],
   "source": [
    "from tensorflow.keras import Model, Input\n",
    "from tensorflow.keras.layers import Conv2D, AveragePooling2D, Flatten, Dense"
   ]
  },
  {
   "cell_type": "code",
   "execution_count": 4,
   "metadata": {},
   "outputs": [],
   "source": [
    "# class version\n",
    "class LeNet5(Model):\n",
    "    \n",
    "    def __init__(self, num_classes):\n",
    "        super(LeNet5, self).__init__()\n",
    "        \n",
    "        self.conv1 = Conv2D(6, kernel_size=(5, 5), padding='same', activation='relu')\n",
    "        self.conv2 = Conv2D(16, kernel_size=(5, 5), activation='relu')\n",
    "        self.avg_pool = AveragePooling2D(pool_size=(2, 2))\n",
    "        self.flatten = Flatten()\n",
    "        self.dense1 = Dense(120, activation='relu')\n",
    "        self.dense2 = Dense(84, activation='relu')\n",
    "        self.dense3 = Dense(num_classes, activation='softmax')\n",
    "        \n",
    "    def call(self, inputs):\n",
    "        x = self.conv1(inputs)\n",
    "        x = self.avg_pool(x)\n",
    "        x = self.conv2(x)\n",
    "        x = self.avg_pool(x)\n",
    "        x = self.flatten(x)\n",
    "        x = self.dense1(x)\n",
    "        x = self.dense2(x)\n",
    "        x = self.dense3(x)\n",
    "        return x"
   ]
  },
  {
   "cell_type": "code",
   "execution_count": 5,
   "metadata": {},
   "outputs": [],
   "source": [
    "# function version\n",
    "def LeNet5(input_shape, num_classes):\n",
    "    input = Input(shape=input_shape, name='Input')\n",
    "    \n",
    "    x = Conv2D(6, kernel_size=(5, 5), padding='same', activation='relu')(input)\n",
    "    x = AveragePooling2D(pool_size=(2, 2))(x)\n",
    "    x = Conv2D(16, kernel_size=(5, 5), activation='relu')(x)\n",
    "    x = AveragePooling2D(pool_size=(2, 2))(x)\n",
    "    x = Flatten()(x)\n",
    "    \n",
    "    x = Dense(120, activation='relu')(x)\n",
    "    x = Dense(84, activation='relu')(x)\n",
    "    output = Dense(num_classes, activation='softmax')(x)\n",
    "    \n",
    "    model = Model(inputs=input, outputs=output)\n",
    "    \n",
    "    return model"
   ]
  },
  {
   "cell_type": "code",
   "execution_count": 6,
   "metadata": {},
   "outputs": [],
   "source": [
    "batch_input_shape = tf.TensorShape((None, *input_shape))"
   ]
  },
  {
   "cell_type": "code",
   "execution_count": 10,
   "metadata": {},
   "outputs": [
    {
     "name": "stdout",
     "output_type": "stream",
     "text": [
      "Model: \"le_net5\"\n",
      "_________________________________________________________________\n",
      " Layer (type)                Output Shape              Param #   \n",
      "=================================================================\n",
      " conv2d_2 (Conv2D)           multiple                  156       \n",
      "                                                                 \n",
      " conv2d_3 (Conv2D)           multiple                  2416      \n",
      "                                                                 \n",
      " average_pooling2d_2 (Averag  multiple                 0         \n",
      " ePooling2D)                                                     \n",
      "                                                                 \n",
      " flatten_1 (Flatten)         multiple                  0         \n",
      "                                                                 \n",
      " dense_3 (Dense)             multiple                  48120     \n",
      "                                                                 \n",
      " dense_4 (Dense)             multiple                  10164     \n",
      "                                                                 \n",
      " dense_5 (Dense)             multiple                  850       \n",
      "                                                                 \n",
      "=================================================================\n",
      "Total params: 61,706\n",
      "Trainable params: 61,706\n",
      "Non-trainable params: 0\n",
      "_________________________________________________________________\n"
     ]
    }
   ],
   "source": [
    "# class version\n",
    "model = LeNet5(num_classes)\n",
    "model.build(input_shape=batch_input_shape)\n",
    "model.summary()"
   ]
  },
  {
   "cell_type": "code",
   "execution_count": 7,
   "metadata": {},
   "outputs": [
    {
     "name": "stdout",
     "output_type": "stream",
     "text": [
      "Model: \"model\"\n",
      "_________________________________________________________________\n",
      " Layer (type)                Output Shape              Param #   \n",
      "=================================================================\n",
      " Input (InputLayer)          [(None, 28, 28, 1)]       0         \n",
      "                                                                 \n",
      " conv2d (Conv2D)             (None, 28, 28, 6)         156       \n",
      "                                                                 \n",
      " average_pooling2d (AverageP  (None, 14, 14, 6)        0         \n",
      " ooling2D)                                                       \n",
      "                                                                 \n",
      " conv2d_1 (Conv2D)           (None, 10, 10, 16)        2416      \n",
      "                                                                 \n",
      " average_pooling2d_1 (Averag  (None, 5, 5, 16)         0         \n",
      " ePooling2D)                                                     \n",
      "                                                                 \n",
      " flatten (Flatten)           (None, 400)               0         \n",
      "                                                                 \n",
      " dense (Dense)               (None, 120)               48120     \n",
      "                                                                 \n",
      " dense_1 (Dense)             (None, 84)                10164     \n",
      "                                                                 \n",
      " dense_2 (Dense)             (None, 10)                850       \n",
      "                                                                 \n",
      "=================================================================\n",
      "Total params: 61,706\n",
      "Trainable params: 61,706\n",
      "Non-trainable params: 0\n",
      "_________________________________________________________________\n"
     ]
    }
   ],
   "source": [
    "# function version\n",
    "model = LeNet5(input_shape, num_classes)\n",
    "model.build(input_shape=batch_input_shape)\n",
    "model.summary()"
   ]
  },
  {
   "cell_type": "code",
   "execution_count": 8,
   "metadata": {},
   "outputs": [],
   "source": [
    "model.compile(optimizer='sgd', loss='sparse_categorical_crossentropy', metrics=['accuracy'])\n",
    "\n",
    "callbacks = [\n",
    "    tf.keras.callbacks.EarlyStopping(patience=5, monitor='val_loss'),\n",
    "    tf.keras.callbacks.TensorBoard(log_dir='./logs')\n",
    "]"
   ]
  },
  {
   "cell_type": "code",
   "execution_count": 9,
   "metadata": {},
   "outputs": [
    {
     "name": "stdout",
     "output_type": "stream",
     "text": [
      "Epoch 1/80\n",
      "1875/1875 [==============================] - 5s 2ms/step - loss: 0.6563 - accuracy: 0.8058 - val_loss: 0.2263 - val_accuracy: 0.9303\n",
      "Epoch 2/80\n",
      "1875/1875 [==============================] - 3s 2ms/step - loss: 0.2017 - accuracy: 0.9383 - val_loss: 0.1484 - val_accuracy: 0.9541\n",
      "Epoch 3/80\n",
      "1875/1875 [==============================] - 3s 2ms/step - loss: 0.1414 - accuracy: 0.9564 - val_loss: 0.1416 - val_accuracy: 0.9558\n",
      "Epoch 4/80\n",
      "1875/1875 [==============================] - 3s 2ms/step - loss: 0.1097 - accuracy: 0.9668 - val_loss: 0.0831 - val_accuracy: 0.9733\n",
      "Epoch 5/80\n",
      "1875/1875 [==============================] - 3s 2ms/step - loss: 0.0907 - accuracy: 0.9719 - val_loss: 0.0805 - val_accuracy: 0.9736\n",
      "Epoch 6/80\n",
      "1875/1875 [==============================] - 3s 2ms/step - loss: 0.0799 - accuracy: 0.9758 - val_loss: 0.0680 - val_accuracy: 0.9788\n",
      "Epoch 7/80\n",
      "1875/1875 [==============================] - 3s 2ms/step - loss: 0.0708 - accuracy: 0.9785 - val_loss: 0.0739 - val_accuracy: 0.9775\n",
      "Epoch 8/80\n",
      "1875/1875 [==============================] - 3s 2ms/step - loss: 0.0640 - accuracy: 0.9807 - val_loss: 0.0653 - val_accuracy: 0.9792\n",
      "Epoch 9/80\n",
      "1875/1875 [==============================] - 3s 2ms/step - loss: 0.0592 - accuracy: 0.9822 - val_loss: 0.0595 - val_accuracy: 0.9796\n",
      "Epoch 10/80\n",
      "1875/1875 [==============================] - 3s 2ms/step - loss: 0.0541 - accuracy: 0.9835 - val_loss: 0.0589 - val_accuracy: 0.9787\n",
      "Epoch 11/80\n",
      "1875/1875 [==============================] - 3s 2ms/step - loss: 0.0504 - accuracy: 0.9845 - val_loss: 0.0511 - val_accuracy: 0.9831\n",
      "Epoch 12/80\n",
      "1875/1875 [==============================] - 3s 2ms/step - loss: 0.0465 - accuracy: 0.9857 - val_loss: 0.0518 - val_accuracy: 0.9830\n",
      "Epoch 13/80\n",
      "1875/1875 [==============================] - 3s 2ms/step - loss: 0.0435 - accuracy: 0.9861 - val_loss: 0.0521 - val_accuracy: 0.9831\n",
      "Epoch 14/80\n",
      "1875/1875 [==============================] - 3s 2ms/step - loss: 0.0401 - accuracy: 0.9876 - val_loss: 0.0454 - val_accuracy: 0.9856\n",
      "Epoch 15/80\n",
      "1875/1875 [==============================] - 3s 2ms/step - loss: 0.0384 - accuracy: 0.9877 - val_loss: 0.0440 - val_accuracy: 0.9863\n",
      "Epoch 16/80\n",
      "1875/1875 [==============================] - 3s 2ms/step - loss: 0.0360 - accuracy: 0.9888 - val_loss: 0.0455 - val_accuracy: 0.9849\n",
      "Epoch 17/80\n",
      "1875/1875 [==============================] - 3s 2ms/step - loss: 0.0336 - accuracy: 0.9893 - val_loss: 0.0446 - val_accuracy: 0.9858\n",
      "Epoch 18/80\n",
      "1875/1875 [==============================] - 3s 2ms/step - loss: 0.0319 - accuracy: 0.9901 - val_loss: 0.0426 - val_accuracy: 0.9870\n",
      "Epoch 19/80\n",
      "1875/1875 [==============================] - 3s 2ms/step - loss: 0.0306 - accuracy: 0.9902 - val_loss: 0.0456 - val_accuracy: 0.9856\n",
      "Epoch 20/80\n",
      "1875/1875 [==============================] - 3s 2ms/step - loss: 0.0294 - accuracy: 0.9911 - val_loss: 0.0499 - val_accuracy: 0.9837\n",
      "Epoch 21/80\n",
      "1875/1875 [==============================] - 3s 2ms/step - loss: 0.0268 - accuracy: 0.9918 - val_loss: 0.0446 - val_accuracy: 0.9855\n",
      "Epoch 22/80\n",
      "1875/1875 [==============================] - 3s 2ms/step - loss: 0.0258 - accuracy: 0.9918 - val_loss: 0.0472 - val_accuracy: 0.9853\n",
      "Epoch 23/80\n",
      "1875/1875 [==============================] - 3s 2ms/step - loss: 0.0242 - accuracy: 0.9926 - val_loss: 0.0436 - val_accuracy: 0.9872\n"
     ]
    }
   ],
   "source": [
    "history = model.fit(x_train, y_train,\n",
    "                    batch_size=32, epochs=80,\n",
    "                    validation_data=(x_test, y_test),\n",
    "                    verbose=1,\n",
    "                    callbacks=callbacks)"
   ]
  },
  {
   "cell_type": "code",
   "execution_count": 10,
   "metadata": {},
   "outputs": [
    {
     "name": "stdout",
     "output_type": "stream",
     "text": [
      "313/313 [==============================] - 0s 1ms/step - loss: 0.0436 - accuracy: 0.9872\n"
     ]
    },
    {
     "data": {
      "text/plain": [
       "[0.04362870752811432, 0.9872000217437744]"
      ]
     },
     "execution_count": 10,
     "metadata": {},
     "output_type": "execute_result"
    }
   ],
   "source": [
    "model.evaluate(x_test, y_test)"
   ]
  },
  {
   "cell_type": "code",
   "execution_count": 11,
   "metadata": {},
   "outputs": [],
   "source": [
    "y_pred = list(map(np.argmax, model.predict(x_test)))"
   ]
  },
  {
   "cell_type": "code",
   "execution_count": 12,
   "metadata": {},
   "outputs": [
    {
     "name": "stdout",
     "output_type": "stream",
     "text": [
      "7\n"
     ]
    }
   ],
   "source": [
    "print(y_pred[0])"
   ]
  },
  {
   "cell_type": "code",
   "execution_count": 13,
   "metadata": {},
   "outputs": [],
   "source": [
    "import matplotlib.pyplot as plt\n",
    "%matplotlib inline"
   ]
  },
  {
   "cell_type": "code",
   "execution_count": 15,
   "metadata": {},
   "outputs": [
    {
     "data": {
      "image/png": "[encoded data removed]",
      "text/plain": [
       "<Figure size 432x288 with 1 Axes>"
      ]
     },
     "metadata": {
      "needs_background": "light"
     },
     "output_type": "display_data"
    }
   ],
   "source": [
    "plt.title(y_pred[1])\n",
    "plt.imshow(x_test[1], 'gray')\n",
    "plt.show()"
   ]
  },
  {
   "cell_type": "code",
   "execution_count": null,
   "metadata": {},
   "outputs": [],
   "source": []
  }
 ],
 "metadata": {
  "kernelspec": {
   "display_name": "Python 3",
   "language": "python",
   "name": "python3"
  },
  "language_info": {
   "codemirror_mode": {
    "name": "ipython",
    "version": 3
   },
   "file_extension": ".py",
   "mimetype": "text/x-python",
   "name": "python",
   "nbconvert_exporter": "python",
   "pygments_lexer": "ipython3",
   "version": "3.8.10"
  }
 },
 "nbformat": 4,
 "nbformat_minor": 2
}
